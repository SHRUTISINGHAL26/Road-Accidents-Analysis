{
 "cells": [
  {
   "cell_type": "code",
   "execution_count": 1,
   "metadata": {},
   "outputs": [],
   "source": [
    "from sklearn.metrics import accuracy_score\n",
    "from sklearn.linear_model import LogisticRegression\n",
    "from sklearn.model_selection import train_test_split\n",
    "from sklearn.neighbors import KNeighborsClassifier \n",
    "from sklearn import metrics\n",
    "  \n",
    "import matplotlib.pyplot as plt\n",
    "import seaborn as sns\n",
    "import pandas as pd\n",
    "import numpy as np\n",
    "import warnings\n",
    "import sys\n",
    "import os \n",
    "DeprecationWarning('ignore')\n",
    "warnings.filterwarnings('ignore', message='Ignore mar')"
   ]
  },
  {
   "cell_type": "code",
   "execution_count": 2,
   "metadata": {},
   "outputs": [
    {
     "data": {
      "text/plain": [
       "'C:\\\\Users\\\\Shruti'"
      ]
     },
     "execution_count": 2,
     "metadata": {},
     "output_type": "execute_result"
    }
   ],
   "source": [
    "os.getcwd()"
   ]
  },
  {
   "cell_type": "code",
   "execution_count": 3,
   "metadata": {},
   "outputs": [],
   "source": [
    "df=pd.read_csv('Traffic accident data chp 5.csv')"
   ]
  },
  {
   "cell_type": "code",
   "execution_count": 4,
   "metadata": {},
   "outputs": [
    {
     "data": {
      "text/plain": [
       "38"
      ]
     },
     "execution_count": 4,
     "metadata": {},
     "output_type": "execute_result"
    }
   ],
   "source": [
    "len(df.columns)"
   ]
  },
  {
   "cell_type": "code",
   "execution_count": 5,
   "metadata": {},
   "outputs": [
    {
     "name": "stdout",
     "output_type": "stream",
     "text": [
      "<class 'pandas.core.frame.DataFrame'>\n",
      "RangeIndex: 2294 entries, 0 to 2293\n",
      "Data columns (total 38 columns):\n",
      "Country                      2203 non-null object\n",
      "State                        2203 non-null object\n",
      "month                        2203 non-null object\n",
      "Date                         2203 non-null object\n",
      "day                          2203 non-null object\n",
      "time                         2203 non-null float64\n",
      "harmful-event                2203 non-null object\n",
      "manner-of-collision          2203 non-null object\n",
      "person-type                  2203 non-null object\n",
      "seating-position             2203 non-null object\n",
      "age                          2203 non-null object\n",
      "age-range                    2203 non-null float64\n",
      "gender                       2203 non-null object\n",
      "race                         2203 non-null object\n",
      "injury-severity              2203 non-null object\n",
      "air-bag                      2203 non-null object\n",
      "transported-for-treatment    2203 non-null object\n",
      "protection-system            2203 non-null object\n",
      "ejection                     2203 non-null object\n",
      "extrication                  2203 non-null object\n",
      "dead-on-arrival              2203 non-null object\n",
      "year-of-death                2203 non-null float64\n",
      "month-of-death               537 non-null object\n",
      "time-of-death                312 non-null float64\n",
      "alcohol-test                 2203 non-null object\n",
      "alcohol-test-method          492 non-null object\n",
      "drug-test                    2203 non-null object\n",
      "drug-involvement             557 non-null object\n",
      "road-type                    2203 non-null object\n",
      "n0-of-lanes                  2203 non-null object\n",
      "sorrounding-area             2203 non-null object\n",
      "road-features                2203 non-null object\n",
      "light-condion                2203 non-null object\n",
      "weather-conditions           2203 non-null object\n",
      "following-traffic-rules      2203 non-null object\n",
      "type-of-vehicle              2203 non-null object\n",
      "causality-class              2203 non-null object\n",
      "Severity Class               2203 non-null object\n",
      "dtypes: float64(4), object(34)\n",
      "memory usage: 681.2+ KB\n"
     ]
    }
   ],
   "source": [
    "df.info()"
   ]
  },
  {
   "cell_type": "code",
   "execution_count": 6,
   "metadata": {},
   "outputs": [
    {
     "data": {
      "text/html": [
       "<div>\n",
       "<style scoped>\n",
       "    .dataframe tbody tr th:only-of-type {\n",
       "        vertical-align: middle;\n",
       "    }\n",
       "\n",
       "    .dataframe tbody tr th {\n",
       "        vertical-align: top;\n",
       "    }\n",
       "\n",
       "    .dataframe thead th {\n",
       "        text-align: right;\n",
       "    }\n",
       "</style>\n",
       "<table border=\"1\" class=\"dataframe\">\n",
       "  <thead>\n",
       "    <tr style=\"text-align: right;\">\n",
       "      <th></th>\n",
       "      <th>Country</th>\n",
       "      <th>State</th>\n",
       "      <th>month</th>\n",
       "      <th>Date</th>\n",
       "      <th>day</th>\n",
       "      <th>time</th>\n",
       "      <th>harmful-event</th>\n",
       "      <th>manner-of-collision</th>\n",
       "      <th>person-type</th>\n",
       "      <th>seating-position</th>\n",
       "      <th>...</th>\n",
       "      <th>road-type</th>\n",
       "      <th>n0-of-lanes</th>\n",
       "      <th>sorrounding-area</th>\n",
       "      <th>road-features</th>\n",
       "      <th>light-condion</th>\n",
       "      <th>weather-conditions</th>\n",
       "      <th>following-traffic-rules</th>\n",
       "      <th>type-of-vehicle</th>\n",
       "      <th>causality-class</th>\n",
       "      <th>Severity Class</th>\n",
       "    </tr>\n",
       "  </thead>\n",
       "  <tbody>\n",
       "    <tr>\n",
       "      <td>0</td>\n",
       "      <td>India</td>\n",
       "      <td>Muzaffarnagar</td>\n",
       "      <td>Jan</td>\n",
       "      <td>01-01-2016</td>\n",
       "      <td>Mon</td>\n",
       "      <td>815.0</td>\n",
       "      <td>Harmful</td>\n",
       "      <td>Collision occurred</td>\n",
       "      <td>Driver</td>\n",
       "      <td>Back-side</td>\n",
       "      <td>...</td>\n",
       "      <td>Highway</td>\n",
       "      <td>Three</td>\n",
       "      <td>Agriculture</td>\n",
       "      <td>Curve</td>\n",
       "      <td>Day light</td>\n",
       "      <td>Other</td>\n",
       "      <td>Not-Followed</td>\n",
       "      <td>Car</td>\n",
       "      <td>Pedestrian</td>\n",
       "      <td>Minor</td>\n",
       "    </tr>\n",
       "    <tr>\n",
       "      <td>1</td>\n",
       "      <td>India</td>\n",
       "      <td>Muzaffarnagar</td>\n",
       "      <td>Jan</td>\n",
       "      <td>02-01-2016</td>\n",
       "      <td>Mon</td>\n",
       "      <td>1330.0</td>\n",
       "      <td>Harmful</td>\n",
       "      <td>Collision occurred</td>\n",
       "      <td>Driver</td>\n",
       "      <td>Back-side</td>\n",
       "      <td>...</td>\n",
       "      <td>Local</td>\n",
       "      <td>Three</td>\n",
       "      <td>Residential</td>\n",
       "      <td>Curve</td>\n",
       "      <td>Day light</td>\n",
       "      <td>Fine without high winds</td>\n",
       "      <td>Not-Followed</td>\n",
       "      <td>Bus</td>\n",
       "      <td>Driver</td>\n",
       "      <td>Minor</td>\n",
       "    </tr>\n",
       "    <tr>\n",
       "      <td>2</td>\n",
       "      <td>India</td>\n",
       "      <td>Muzaffarnagar</td>\n",
       "      <td>Jan</td>\n",
       "      <td>03-01-2016</td>\n",
       "      <td>Mon</td>\n",
       "      <td>805.0</td>\n",
       "      <td>Harmful</td>\n",
       "      <td>Collision occurred</td>\n",
       "      <td>Driver</td>\n",
       "      <td>Back-side</td>\n",
       "      <td>...</td>\n",
       "      <td>Highway</td>\n",
       "      <td>Two</td>\n",
       "      <td>Residential</td>\n",
       "      <td>Curve</td>\n",
       "      <td>No light</td>\n",
       "      <td>Fine without high winds</td>\n",
       "      <td>Not-Followed</td>\n",
       "      <td>Car</td>\n",
       "      <td>Driver</td>\n",
       "      <td>Minor</td>\n",
       "    </tr>\n",
       "    <tr>\n",
       "      <td>3</td>\n",
       "      <td>India</td>\n",
       "      <td>Muzaffarnagar</td>\n",
       "      <td>Jan</td>\n",
       "      <td>04-01-2016</td>\n",
       "      <td>Mon</td>\n",
       "      <td>805.0</td>\n",
       "      <td>Harmful</td>\n",
       "      <td>Collision occurred</td>\n",
       "      <td>Driver</td>\n",
       "      <td>Back-side</td>\n",
       "      <td>...</td>\n",
       "      <td>Highway</td>\n",
       "      <td>Two</td>\n",
       "      <td>Residential</td>\n",
       "      <td>Straight</td>\n",
       "      <td>Road light</td>\n",
       "      <td>Fine without high winds</td>\n",
       "      <td>Followed</td>\n",
       "      <td>Car</td>\n",
       "      <td>Driver</td>\n",
       "      <td>Minor</td>\n",
       "    </tr>\n",
       "    <tr>\n",
       "      <td>4</td>\n",
       "      <td>India</td>\n",
       "      <td>Muzaffarnagar</td>\n",
       "      <td>Jan</td>\n",
       "      <td>05-01-2016</td>\n",
       "      <td>Mon</td>\n",
       "      <td>1705.0</td>\n",
       "      <td>Harmful</td>\n",
       "      <td>Collision occurred</td>\n",
       "      <td>Driver</td>\n",
       "      <td>Back-side</td>\n",
       "      <td>...</td>\n",
       "      <td>Highway</td>\n",
       "      <td>Two</td>\n",
       "      <td>Residential</td>\n",
       "      <td>Straight</td>\n",
       "      <td>No light</td>\n",
       "      <td>Raining without high winds</td>\n",
       "      <td>Not-Followed</td>\n",
       "      <td>Car</td>\n",
       "      <td>Driver</td>\n",
       "      <td>Minor</td>\n",
       "    </tr>\n",
       "  </tbody>\n",
       "</table>\n",
       "<p>5 rows × 38 columns</p>\n",
       "</div>"
      ],
      "text/plain": [
       "  Country          State month        Date  day    time harmful-event  \\\n",
       "0   India  Muzaffarnagar   Jan  01-01-2016  Mon   815.0       Harmful   \n",
       "1   India  Muzaffarnagar   Jan  02-01-2016  Mon  1330.0       Harmful   \n",
       "2   India  Muzaffarnagar   Jan  03-01-2016  Mon   805.0       Harmful   \n",
       "3   India  Muzaffarnagar   Jan  04-01-2016  Mon   805.0       Harmful   \n",
       "4   India  Muzaffarnagar   Jan  05-01-2016  Mon  1705.0       Harmful   \n",
       "\n",
       "  manner-of-collision person-type seating-position  ... road-type  \\\n",
       "0  Collision occurred      Driver        Back-side  ...   Highway   \n",
       "1  Collision occurred      Driver        Back-side  ...     Local   \n",
       "2  Collision occurred      Driver        Back-side  ...   Highway   \n",
       "3  Collision occurred      Driver        Back-side  ...   Highway   \n",
       "4  Collision occurred      Driver        Back-side  ...   Highway   \n",
       "\n",
       "   n0-of-lanes sorrounding-area road-features light-condion  \\\n",
       "0        Three      Agriculture         Curve     Day light   \n",
       "1        Three      Residential         Curve     Day light   \n",
       "2          Two      Residential         Curve      No light   \n",
       "3          Two      Residential      Straight    Road light   \n",
       "4          Two      Residential      Straight      No light   \n",
       "\n",
       "           weather-conditions following-traffic-rules type-of-vehicle  \\\n",
       "0                       Other            Not-Followed             Car   \n",
       "1     Fine without high winds            Not-Followed             Bus   \n",
       "2     Fine without high winds            Not-Followed             Car   \n",
       "3     Fine without high winds                Followed             Car   \n",
       "4  Raining without high winds            Not-Followed             Car   \n",
       "\n",
       "  causality-class Severity Class  \n",
       "0      Pedestrian          Minor  \n",
       "1          Driver          Minor  \n",
       "2          Driver          Minor  \n",
       "3          Driver          Minor  \n",
       "4          Driver          Minor  \n",
       "\n",
       "[5 rows x 38 columns]"
      ]
     },
     "execution_count": 6,
     "metadata": {},
     "output_type": "execute_result"
    }
   ],
   "source": [
    "df.head()"
   ]
  },
  {
   "cell_type": "code",
   "execution_count": 7,
   "metadata": {},
   "outputs": [],
   "source": [
    "def null_percent(df):\n",
    "    for column in df.columns:\n",
    "        percent=df[column].isnull().sum()/df[column].shape[0]\n",
    "        print(column, '=', (percent.round(3))*100)"
   ]
  },
  {
   "cell_type": "code",
   "execution_count": 8,
   "metadata": {},
   "outputs": [
    {
     "name": "stdout",
     "output_type": "stream",
     "text": [
      "Country = 4.0\n",
      "State = 4.0\n",
      "month = 4.0\n",
      "Date = 4.0\n",
      "day = 4.0\n",
      "time = 4.0\n",
      "harmful-event = 4.0\n",
      "manner-of-collision = 4.0\n",
      "person-type = 4.0\n",
      "seating-position = 4.0\n",
      "age = 4.0\n",
      "age-range = 4.0\n",
      "gender = 4.0\n",
      "race = 4.0\n",
      "injury-severity = 4.0\n",
      "air-bag = 4.0\n",
      "transported-for-treatment = 4.0\n",
      "protection-system = 4.0\n",
      "ejection = 4.0\n",
      "extrication = 4.0\n",
      "dead-on-arrival = 4.0\n",
      "year-of-death = 4.0\n",
      "month-of-death = 76.6\n",
      "time-of-death = 86.4\n",
      "alcohol-test = 4.0\n",
      "alcohol-test-method = 78.60000000000001\n",
      "drug-test = 4.0\n",
      "drug-involvement = 75.7\n",
      "road-type = 4.0\n",
      "n0-of-lanes = 4.0\n",
      "sorrounding-area = 4.0\n",
      "road-features = 4.0\n",
      "light-condion = 4.0\n",
      "weather-conditions = 4.0\n",
      "following-traffic-rules = 4.0\n",
      "type-of-vehicle = 4.0\n",
      "causality-class = 4.0\n",
      "Severity Class = 4.0\n"
     ]
    }
   ],
   "source": [
    "null_percent(df)"
   ]
  },
  {
   "cell_type": "code",
   "execution_count": 9,
   "metadata": {},
   "outputs": [
    {
     "data": {
      "text/plain": [
       "Country                        91\n",
       "State                          91\n",
       "month                          91\n",
       "Date                           91\n",
       "day                            91\n",
       "time                           91\n",
       "harmful-event                  91\n",
       "manner-of-collision            91\n",
       "person-type                    91\n",
       "seating-position               91\n",
       "age                            91\n",
       "age-range                      91\n",
       "gender                         91\n",
       "race                           91\n",
       "injury-severity                91\n",
       "air-bag                        91\n",
       "transported-for-treatment      91\n",
       "protection-system              91\n",
       "ejection                       91\n",
       "extrication                    91\n",
       "dead-on-arrival                91\n",
       "year-of-death                  91\n",
       "month-of-death               1757\n",
       "time-of-death                1982\n",
       "alcohol-test                   91\n",
       "alcohol-test-method          1802\n",
       "drug-test                      91\n",
       "drug-involvement             1737\n",
       "road-type                      91\n",
       "n0-of-lanes                    91\n",
       "sorrounding-area               91\n",
       "road-features                  91\n",
       "light-condion                  91\n",
       "weather-conditions             91\n",
       "following-traffic-rules        91\n",
       "type-of-vehicle                91\n",
       "causality-class                91\n",
       "Severity Class                 91\n",
       "dtype: int64"
      ]
     },
     "execution_count": 9,
     "metadata": {},
     "output_type": "execute_result"
    }
   ],
   "source": [
    "df.isnull().sum()"
   ]
  },
  {
   "cell_type": "code",
   "execution_count": 10,
   "metadata": {},
   "outputs": [
    {
     "data": {
      "text/plain": [
       "Muzaffarnagar     805\n",
       "Andhra Pradesh    672\n",
       "Uttar Pradesh     519\n",
       "Maharashtra       207\n",
       "Name: State, dtype: int64"
      ]
     },
     "execution_count": 10,
     "metadata": {},
     "output_type": "execute_result"
    }
   ],
   "source": [
    "df[\"State\"].value_counts()"
   ]
  },
  {
   "cell_type": "code",
   "execution_count": 11,
   "metadata": {},
   "outputs": [],
   "source": [
    "df.drop('Country', axis=1, inplace=True)\n",
    "df.drop('drug-involvement', axis=1, inplace=True)\n",
    "df.drop('alcohol-test-method', axis=1, inplace=True)\n",
    "df.drop('time-of-death', axis=1, inplace=True)\n",
    "df.drop('month-of-death', axis=1, inplace=True)\n",
    "df.drop('Date', axis=1, inplace=True)"
   ]
  },
  {
   "cell_type": "code",
   "execution_count": 12,
   "metadata": {},
   "outputs": [
    {
     "name": "stdout",
     "output_type": "stream",
     "text": [
      "Muzaffarnagar     805\n",
      "Andhra Pradesh    672\n",
      "Uttar Pradesh     519\n",
      "Maharashtra       207\n",
      "Name: State, dtype: int64\n",
      "Dec     260\n",
      "Apr     203\n",
      "Feb     202\n",
      "Jan     202\n",
      "Mar     202\n",
      "Aug     181\n",
      "Nov     180\n",
      "Jun     160\n",
      "Oct     160\n",
      "May     159\n",
      "Sept    157\n",
      "Jul     137\n",
      "Name: month, dtype: int64\n",
      "Mon     620\n",
      "Fri     540\n",
      "Sun     363\n",
      "Sat     330\n",
      "Thur    140\n",
      "Tues    110\n",
      "Wed     100\n",
      "Name: day, dtype: int64\n",
      "1700.0    34\n",
      "1600.0    29\n",
      "1800.0    29\n",
      "1900.0    22\n",
      "1630.0    21\n",
      "          ..\n",
      "1749.0     1\n",
      "906.0      1\n",
      "1721.0     1\n",
      "1706.0     1\n",
      "1031.0     1\n",
      "Name: time, Length: 633, dtype: int64\n",
      "Normal     1517\n",
      "Harmful     686\n",
      "Name: harmful-event, dtype: int64\n",
      "Non-collision         1816\n",
      "Collision occurred     387\n",
      "Name: manner-of-collision, dtype: int64\n",
      "Passenger    1941\n",
      "Driver        262\n",
      "Name: person-type, dtype: int64\n",
      "Back-side     1905\n",
      "Front-side     298\n",
      "Name: seating-position, dtype: int64\n",
      "young    2003\n",
      "old       200\n",
      "Name: age, dtype: int64\n",
      "24.0    68\n",
      "23.0    67\n",
      "26.0    66\n",
      "20.0    66\n",
      "18.0    65\n",
      "        ..\n",
      "96.0     1\n",
      "88.0     1\n",
      "92.0     1\n",
      "91.0     1\n",
      "93.0     1\n",
      "Name: age-range, Length: 94, dtype: int64\n",
      "Male      1250\n",
      "Female     953\n",
      "Name: gender, dtype: int64\n",
      "Normal    1596\n",
      "race       607\n",
      "Name: race, dtype: int64\n",
      "Non-serious    1456\n",
      "Serious         747\n",
      "Name: injury-severity, dtype: int64\n",
      "Available        1422\n",
      "Non-Available     781\n",
      "Name: air-bag, dtype: int64\n",
      "Non-transported    1420\n",
      "transported         783\n",
      "Name: transported-for-treatment, dtype: int64\n",
      "Non-used    1862\n",
      "used         341\n",
      "Name: protection-system, dtype: int64\n",
      "Non-Ejected    1703\n",
      "Ejected         500\n",
      "Name: ejection, dtype: int64\n",
      "Non-extricated    1798\n",
      "Extricated         405\n",
      "Name: extrication, dtype: int64\n",
      "No     1629\n",
      "Yes     574\n",
      "Name: dead-on-arrival, dtype: int64\n",
      "2017.0    1510\n",
      "2016.0     693\n",
      "Name: year-of-death, dtype: int64\n",
      "No     1723\n",
      "Yes     480\n",
      "Name: alcohol-test, dtype: int64\n",
      "No     1636\n",
      "Yes     561\n",
      "yes       6\n",
      "Name: drug-test, dtype: int64\n",
      "Highway    1375\n",
      "Local       828\n",
      "Name: road-type, dtype: int64\n",
      "Three    1090\n",
      "Two       647\n",
      "One       460\n",
      "one         6\n",
      "Name: n0-of-lanes, dtype: int64\n",
      "Agriculture    846\n",
      "Residential    639\n",
      "Industrial     428\n",
      "Commercial     290\n",
      "Name: sorrounding-area, dtype: int64\n",
      "Curve           901\n",
      "Straight        670\n",
      "Intersection    632\n",
      "Name: road-features, dtype: int64\n",
      "No light      942\n",
      "Road light    801\n",
      "Day light     460\n",
      "Name: light-condion, dtype: int64\n",
      "Fine without high winds       1954\n",
      "Raining without high winds     183\n",
      "Raining with high winds         19\n",
      "Fine with high winds            18\n",
      "Other                           18\n",
      "Snowing without high winds       6\n",
      "Fog or mist (if hazard)          3\n",
      "Snowing with high winds          2\n",
      "Name: weather-conditions, dtype: int64\n",
      "Not-Followed    1226\n",
      "Followed         977\n",
      "Name: following-traffic-rules, dtype: int64\n",
      "Car      1446\n",
      "Bus       354\n",
      "Bike      203\n",
      "Truck     200\n",
      "Name: type-of-vehicle, dtype: int64\n",
      "Pedestrian    1344\n",
      "Driver         859\n",
      "Name: causality-class, dtype: int64\n",
      "Minor    1847\n",
      "Major     258\n",
      "Fatal      98\n",
      "Name: Severity Class, dtype: int64\n"
     ]
    }
   ],
   "source": [
    "for i in range(32):\n",
    "    print(df[df.columns[i]].value_counts())"
   ]
  },
  {
   "cell_type": "code",
   "execution_count": 13,
   "metadata": {},
   "outputs": [
    {
     "data": {
      "text/html": [
       "<div>\n",
       "<style scoped>\n",
       "    .dataframe tbody tr th:only-of-type {\n",
       "        vertical-align: middle;\n",
       "    }\n",
       "\n",
       "    .dataframe tbody tr th {\n",
       "        vertical-align: top;\n",
       "    }\n",
       "\n",
       "    .dataframe thead th {\n",
       "        text-align: right;\n",
       "    }\n",
       "</style>\n",
       "<table border=\"1\" class=\"dataframe\">\n",
       "  <thead>\n",
       "    <tr style=\"text-align: right;\">\n",
       "      <th></th>\n",
       "      <th>State</th>\n",
       "      <th>month</th>\n",
       "      <th>day</th>\n",
       "      <th>time</th>\n",
       "      <th>harmful-event</th>\n",
       "      <th>manner-of-collision</th>\n",
       "      <th>person-type</th>\n",
       "      <th>seating-position</th>\n",
       "      <th>age</th>\n",
       "      <th>age-range</th>\n",
       "      <th>...</th>\n",
       "      <th>road-type</th>\n",
       "      <th>n0-of-lanes</th>\n",
       "      <th>sorrounding-area</th>\n",
       "      <th>road-features</th>\n",
       "      <th>light-condion</th>\n",
       "      <th>weather-conditions</th>\n",
       "      <th>following-traffic-rules</th>\n",
       "      <th>type-of-vehicle</th>\n",
       "      <th>causality-class</th>\n",
       "      <th>Severity Class</th>\n",
       "    </tr>\n",
       "  </thead>\n",
       "  <tbody>\n",
       "    <tr>\n",
       "      <td>0</td>\n",
       "      <td>Muzaffarnagar</td>\n",
       "      <td>Jan</td>\n",
       "      <td>Mon</td>\n",
       "      <td>815.0</td>\n",
       "      <td>Harmful</td>\n",
       "      <td>Collision occurred</td>\n",
       "      <td>Driver</td>\n",
       "      <td>Back-side</td>\n",
       "      <td>old</td>\n",
       "      <td>61.0</td>\n",
       "      <td>...</td>\n",
       "      <td>Highway</td>\n",
       "      <td>Three</td>\n",
       "      <td>Agriculture</td>\n",
       "      <td>Curve</td>\n",
       "      <td>Day light</td>\n",
       "      <td>Other</td>\n",
       "      <td>Not-Followed</td>\n",
       "      <td>Car</td>\n",
       "      <td>Pedestrian</td>\n",
       "      <td>Minor</td>\n",
       "    </tr>\n",
       "    <tr>\n",
       "      <td>1</td>\n",
       "      <td>Muzaffarnagar</td>\n",
       "      <td>Jan</td>\n",
       "      <td>Mon</td>\n",
       "      <td>1330.0</td>\n",
       "      <td>Harmful</td>\n",
       "      <td>Collision occurred</td>\n",
       "      <td>Driver</td>\n",
       "      <td>Back-side</td>\n",
       "      <td>old</td>\n",
       "      <td>36.0</td>\n",
       "      <td>...</td>\n",
       "      <td>Local</td>\n",
       "      <td>Three</td>\n",
       "      <td>Residential</td>\n",
       "      <td>Curve</td>\n",
       "      <td>Day light</td>\n",
       "      <td>Fine without high winds</td>\n",
       "      <td>Not-Followed</td>\n",
       "      <td>Bus</td>\n",
       "      <td>Driver</td>\n",
       "      <td>Minor</td>\n",
       "    </tr>\n",
       "    <tr>\n",
       "      <td>2</td>\n",
       "      <td>Muzaffarnagar</td>\n",
       "      <td>Jan</td>\n",
       "      <td>Mon</td>\n",
       "      <td>805.0</td>\n",
       "      <td>Harmful</td>\n",
       "      <td>Collision occurred</td>\n",
       "      <td>Driver</td>\n",
       "      <td>Back-side</td>\n",
       "      <td>old</td>\n",
       "      <td>32.0</td>\n",
       "      <td>...</td>\n",
       "      <td>Highway</td>\n",
       "      <td>Two</td>\n",
       "      <td>Residential</td>\n",
       "      <td>Curve</td>\n",
       "      <td>No light</td>\n",
       "      <td>Fine without high winds</td>\n",
       "      <td>Not-Followed</td>\n",
       "      <td>Car</td>\n",
       "      <td>Driver</td>\n",
       "      <td>Minor</td>\n",
       "    </tr>\n",
       "    <tr>\n",
       "      <td>3</td>\n",
       "      <td>Muzaffarnagar</td>\n",
       "      <td>Jan</td>\n",
       "      <td>Mon</td>\n",
       "      <td>805.0</td>\n",
       "      <td>Harmful</td>\n",
       "      <td>Collision occurred</td>\n",
       "      <td>Driver</td>\n",
       "      <td>Back-side</td>\n",
       "      <td>old</td>\n",
       "      <td>30.0</td>\n",
       "      <td>...</td>\n",
       "      <td>Highway</td>\n",
       "      <td>Two</td>\n",
       "      <td>Residential</td>\n",
       "      <td>Straight</td>\n",
       "      <td>Road light</td>\n",
       "      <td>Fine without high winds</td>\n",
       "      <td>Followed</td>\n",
       "      <td>Car</td>\n",
       "      <td>Driver</td>\n",
       "      <td>Minor</td>\n",
       "    </tr>\n",
       "    <tr>\n",
       "      <td>4</td>\n",
       "      <td>Muzaffarnagar</td>\n",
       "      <td>Jan</td>\n",
       "      <td>Mon</td>\n",
       "      <td>1705.0</td>\n",
       "      <td>Harmful</td>\n",
       "      <td>Collision occurred</td>\n",
       "      <td>Driver</td>\n",
       "      <td>Back-side</td>\n",
       "      <td>old</td>\n",
       "      <td>26.0</td>\n",
       "      <td>...</td>\n",
       "      <td>Highway</td>\n",
       "      <td>Two</td>\n",
       "      <td>Residential</td>\n",
       "      <td>Straight</td>\n",
       "      <td>No light</td>\n",
       "      <td>Raining without high winds</td>\n",
       "      <td>Not-Followed</td>\n",
       "      <td>Car</td>\n",
       "      <td>Driver</td>\n",
       "      <td>Minor</td>\n",
       "    </tr>\n",
       "  </tbody>\n",
       "</table>\n",
       "<p>5 rows × 32 columns</p>\n",
       "</div>"
      ],
      "text/plain": [
       "           State month  day    time harmful-event manner-of-collision  \\\n",
       "0  Muzaffarnagar   Jan  Mon   815.0       Harmful  Collision occurred   \n",
       "1  Muzaffarnagar   Jan  Mon  1330.0       Harmful  Collision occurred   \n",
       "2  Muzaffarnagar   Jan  Mon   805.0       Harmful  Collision occurred   \n",
       "3  Muzaffarnagar   Jan  Mon   805.0       Harmful  Collision occurred   \n",
       "4  Muzaffarnagar   Jan  Mon  1705.0       Harmful  Collision occurred   \n",
       "\n",
       "  person-type seating-position   age  age-range  ... road-type n0-of-lanes  \\\n",
       "0      Driver        Back-side  old        61.0  ...   Highway       Three   \n",
       "1      Driver        Back-side  old        36.0  ...     Local       Three   \n",
       "2      Driver        Back-side  old        32.0  ...   Highway         Two   \n",
       "3      Driver        Back-side  old        30.0  ...   Highway         Two   \n",
       "4      Driver        Back-side  old        26.0  ...   Highway         Two   \n",
       "\n",
       "  sorrounding-area road-features light-condion          weather-conditions  \\\n",
       "0      Agriculture         Curve     Day light                       Other   \n",
       "1      Residential         Curve     Day light     Fine without high winds   \n",
       "2      Residential         Curve      No light     Fine without high winds   \n",
       "3      Residential      Straight    Road light     Fine without high winds   \n",
       "4      Residential      Straight      No light  Raining without high winds   \n",
       "\n",
       "  following-traffic-rules type-of-vehicle causality-class  Severity Class  \n",
       "0            Not-Followed             Car      Pedestrian           Minor  \n",
       "1            Not-Followed             Bus          Driver           Minor  \n",
       "2            Not-Followed             Car          Driver           Minor  \n",
       "3                Followed             Car          Driver           Minor  \n",
       "4            Not-Followed             Car          Driver           Minor  \n",
       "\n",
       "[5 rows x 32 columns]"
      ]
     },
     "execution_count": 13,
     "metadata": {},
     "output_type": "execute_result"
    }
   ],
   "source": [
    "df.head()"
   ]
  },
  {
   "cell_type": "code",
   "execution_count": 14,
   "metadata": {},
   "outputs": [
    {
     "data": {
      "text/plain": [
       "Muzaffarnagar     805\n",
       "Andhra Pradesh    672\n",
       "Uttar Pradesh     519\n",
       "Maharashtra       207\n",
       "Name: State, dtype: int64"
      ]
     },
     "execution_count": 14,
     "metadata": {},
     "output_type": "execute_result"
    }
   ],
   "source": [
    "df.State.value_counts()"
   ]
  },
  {
   "cell_type": "code",
   "execution_count": 15,
   "metadata": {},
   "outputs": [],
   "source": [
    "df=df.dropna()"
   ]
  },
  {
   "cell_type": "code",
   "execution_count": 16,
   "metadata": {},
   "outputs": [
    {
     "name": "stdout",
     "output_type": "stream",
     "text": [
      "<class 'pandas.core.frame.DataFrame'>\n",
      "Int64Index: 2203 entries, 0 to 2202\n",
      "Data columns (total 32 columns):\n",
      "State                        2203 non-null object\n",
      "month                        2203 non-null object\n",
      "day                          2203 non-null object\n",
      "time                         2203 non-null float64\n",
      "harmful-event                2203 non-null object\n",
      "manner-of-collision          2203 non-null object\n",
      "person-type                  2203 non-null object\n",
      "seating-position             2203 non-null object\n",
      "age                          2203 non-null object\n",
      "age-range                    2203 non-null float64\n",
      "gender                       2203 non-null object\n",
      "race                         2203 non-null object\n",
      "injury-severity              2203 non-null object\n",
      "air-bag                      2203 non-null object\n",
      "transported-for-treatment    2203 non-null object\n",
      "protection-system            2203 non-null object\n",
      "ejection                     2203 non-null object\n",
      "extrication                  2203 non-null object\n",
      "dead-on-arrival              2203 non-null object\n",
      "year-of-death                2203 non-null float64\n",
      "alcohol-test                 2203 non-null object\n",
      "drug-test                    2203 non-null object\n",
      "road-type                    2203 non-null object\n",
      "n0-of-lanes                  2203 non-null object\n",
      "sorrounding-area             2203 non-null object\n",
      "road-features                2203 non-null object\n",
      "light-condion                2203 non-null object\n",
      "weather-conditions           2203 non-null object\n",
      "following-traffic-rules      2203 non-null object\n",
      "type-of-vehicle              2203 non-null object\n",
      "causality-class              2203 non-null object\n",
      "Severity Class               2203 non-null object\n",
      "dtypes: float64(3), object(29)\n",
      "memory usage: 568.0+ KB\n"
     ]
    }
   ],
   "source": [
    "df.info()"
   ]
  },
  {
   "cell_type": "code",
   "execution_count": 17,
   "metadata": {},
   "outputs": [
    {
     "name": "stdout",
     "output_type": "stream",
     "text": [
      "Muzaffarnagar     805\n",
      "Andhra Pradesh    672\n",
      "Uttar Pradesh     519\n",
      "Maharashtra       207\n",
      "Name: State, dtype: int64\n",
      "Dec     260\n",
      "Apr     203\n",
      "Feb     202\n",
      "Jan     202\n",
      "Mar     202\n",
      "Aug     181\n",
      "Nov     180\n",
      "Jun     160\n",
      "Oct     160\n",
      "May     159\n",
      "Sept    157\n",
      "Jul     137\n",
      "Name: month, dtype: int64\n",
      "Mon     620\n",
      "Fri     540\n",
      "Sun     363\n",
      "Sat     330\n",
      "Thur    140\n",
      "Tues    110\n",
      "Wed     100\n",
      "Name: day, dtype: int64\n",
      "1700.0    34\n",
      "1600.0    29\n",
      "1800.0    29\n",
      "1900.0    22\n",
      "1630.0    21\n",
      "          ..\n",
      "1749.0     1\n",
      "906.0      1\n",
      "1721.0     1\n",
      "1706.0     1\n",
      "1031.0     1\n",
      "Name: time, Length: 633, dtype: int64\n",
      "Normal     1517\n",
      "Harmful     686\n",
      "Name: harmful-event, dtype: int64\n",
      "Non-collision         1816\n",
      "Collision occurred     387\n",
      "Name: manner-of-collision, dtype: int64\n",
      "Passenger    1941\n",
      "Driver        262\n",
      "Name: person-type, dtype: int64\n",
      "Back-side     1905\n",
      "Front-side     298\n",
      "Name: seating-position, dtype: int64\n",
      "young    2003\n",
      "old       200\n",
      "Name: age, dtype: int64\n",
      "24.0    68\n",
      "23.0    67\n",
      "26.0    66\n",
      "20.0    66\n",
      "18.0    65\n",
      "        ..\n",
      "96.0     1\n",
      "88.0     1\n",
      "92.0     1\n",
      "91.0     1\n",
      "93.0     1\n",
      "Name: age-range, Length: 94, dtype: int64\n",
      "Male      1250\n",
      "Female     953\n",
      "Name: gender, dtype: int64\n",
      "Normal    1596\n",
      "race       607\n",
      "Name: race, dtype: int64\n",
      "Non-serious    1456\n",
      "Serious         747\n",
      "Name: injury-severity, dtype: int64\n",
      "Available        1422\n",
      "Non-Available     781\n",
      "Name: air-bag, dtype: int64\n",
      "Non-transported    1420\n",
      "transported         783\n",
      "Name: transported-for-treatment, dtype: int64\n",
      "Non-used    1862\n",
      "used         341\n",
      "Name: protection-system, dtype: int64\n",
      "Non-Ejected    1703\n",
      "Ejected         500\n",
      "Name: ejection, dtype: int64\n",
      "Non-extricated    1798\n",
      "Extricated         405\n",
      "Name: extrication, dtype: int64\n",
      "No     1629\n",
      "Yes     574\n",
      "Name: dead-on-arrival, dtype: int64\n",
      "2017.0    1510\n",
      "2016.0     693\n",
      "Name: year-of-death, dtype: int64\n",
      "No     1723\n",
      "Yes     480\n",
      "Name: alcohol-test, dtype: int64\n",
      "No     1636\n",
      "Yes     561\n",
      "yes       6\n",
      "Name: drug-test, dtype: int64\n",
      "Highway    1375\n",
      "Local       828\n",
      "Name: road-type, dtype: int64\n",
      "Three    1090\n",
      "Two       647\n",
      "One       460\n",
      "one         6\n",
      "Name: n0-of-lanes, dtype: int64\n",
      "Agriculture    846\n",
      "Residential    639\n",
      "Industrial     428\n",
      "Commercial     290\n",
      "Name: sorrounding-area, dtype: int64\n",
      "Curve           901\n",
      "Straight        670\n",
      "Intersection    632\n",
      "Name: road-features, dtype: int64\n",
      "No light      942\n",
      "Road light    801\n",
      "Day light     460\n",
      "Name: light-condion, dtype: int64\n",
      "Fine without high winds       1954\n",
      "Raining without high winds     183\n",
      "Raining with high winds         19\n",
      "Fine with high winds            18\n",
      "Other                           18\n",
      "Snowing without high winds       6\n",
      "Fog or mist (if hazard)          3\n",
      "Snowing with high winds          2\n",
      "Name: weather-conditions, dtype: int64\n",
      "Not-Followed    1226\n",
      "Followed         977\n",
      "Name: following-traffic-rules, dtype: int64\n",
      "Car      1446\n",
      "Bus       354\n",
      "Bike      203\n",
      "Truck     200\n",
      "Name: type-of-vehicle, dtype: int64\n",
      "Pedestrian    1344\n",
      "Driver         859\n",
      "Name: causality-class, dtype: int64\n",
      "Minor    1847\n",
      "Major     258\n",
      "Fatal      98\n",
      "Name: Severity Class, dtype: int64\n"
     ]
    }
   ],
   "source": [
    "for i in range(32): \n",
    "    print(df[df.columns[i]].value_counts())"
   ]
  },
  {
   "cell_type": "code",
   "execution_count": 18,
   "metadata": {},
   "outputs": [],
   "source": [
    "df2=df"
   ]
  },
  {
   "cell_type": "code",
   "execution_count": 19,
   "metadata": {},
   "outputs": [],
   "source": [
    "from sklearn.preprocessing import LabelEncoder\n",
    "labelencoder = LabelEncoder()\n",
    "df['State'] = labelencoder.fit_transform(df['State'])\n",
    "df['month'] = labelencoder.fit_transform(df['month'])\n",
    "df['day'] = labelencoder.fit_transform(df['day'])\n",
    "df['harmful-event'] = labelencoder.fit_transform(df['harmful-event'])\n",
    "df['manner-of-collision'] = labelencoder.fit_transform(df['manner-of-collision'])\n",
    "df['person-type'] = labelencoder.fit_transform(df['person-type'])\n",
    "df['seating-position'] = labelencoder.fit_transform(df['seating-position'])\n",
    "df['age'] = labelencoder.fit_transform(df['age'])\n",
    "df['gender'] = labelencoder.fit_transform(df['gender'])\n",
    "df['race'] = labelencoder.fit_transform(df['race'])\n",
    "df['injury-severity'] = labelencoder.fit_transform(df['injury-severity'])\n",
    "df['air-bag'] = labelencoder.fit_transform(df['air-bag'])\n",
    "df['transported-for-treatment'] = labelencoder.fit_transform(df['transported-for-treatment'])\n",
    "df['protection-system'] = labelencoder.fit_transform(df['protection-system'])\n",
    "df['ejection'] = labelencoder.fit_transform(df['ejection'])\n",
    "df['extrication'] = labelencoder.fit_transform(df['extrication'])\n",
    "df['alcohol-test'] = labelencoder.fit_transform(df['alcohol-test'])\n",
    "df['drug-test'] = labelencoder.fit_transform(df['drug-test'])\n",
    "df['road-type'] = labelencoder.fit_transform(df['road-type'])\n",
    "df['n0-of-lanes'] = labelencoder.fit_transform(df['n0-of-lanes'])\n",
    "df['sorrounding-area'] = labelencoder.fit_transform(df['sorrounding-area'])\n",
    "df['road-features'] = labelencoder.fit_transform(df['road-features'])\n",
    "df['light-condion'] = labelencoder.fit_transform(df['light-condion'])\n",
    "df['weather-conditions'] = labelencoder.fit_transform(df['weather-conditions'])\n",
    "df['following-traffic-rules'] = labelencoder.fit_transform(df['following-traffic-rules'])\n",
    "df['type-of-vehicle'] = labelencoder.fit_transform(df['type-of-vehicle'])\n",
    "df['causality-class'] = labelencoder.fit_transform(df['causality-class'])\n",
    "df['Severity Class'] = labelencoder.fit_transform(df['Severity Class'])\n",
    "df['dead-on-arrival'] = labelencoder.fit_transform(df['dead-on-arrival'])"
   ]
  },
  {
   "cell_type": "code",
   "execution_count": 20,
   "metadata": {},
   "outputs": [
    {
     "data": {
      "text/html": [
       "<div>\n",
       "<style scoped>\n",
       "    .dataframe tbody tr th:only-of-type {\n",
       "        vertical-align: middle;\n",
       "    }\n",
       "\n",
       "    .dataframe tbody tr th {\n",
       "        vertical-align: top;\n",
       "    }\n",
       "\n",
       "    .dataframe thead th {\n",
       "        text-align: right;\n",
       "    }\n",
       "</style>\n",
       "<table border=\"1\" class=\"dataframe\">\n",
       "  <thead>\n",
       "    <tr style=\"text-align: right;\">\n",
       "      <th></th>\n",
       "      <th>State</th>\n",
       "      <th>month</th>\n",
       "      <th>day</th>\n",
       "      <th>time</th>\n",
       "      <th>harmful-event</th>\n",
       "      <th>manner-of-collision</th>\n",
       "      <th>person-type</th>\n",
       "      <th>seating-position</th>\n",
       "      <th>age</th>\n",
       "      <th>age-range</th>\n",
       "      <th>...</th>\n",
       "      <th>road-type</th>\n",
       "      <th>n0-of-lanes</th>\n",
       "      <th>sorrounding-area</th>\n",
       "      <th>road-features</th>\n",
       "      <th>light-condion</th>\n",
       "      <th>weather-conditions</th>\n",
       "      <th>following-traffic-rules</th>\n",
       "      <th>type-of-vehicle</th>\n",
       "      <th>causality-class</th>\n",
       "      <th>Severity Class</th>\n",
       "    </tr>\n",
       "  </thead>\n",
       "  <tbody>\n",
       "    <tr>\n",
       "      <td>0</td>\n",
       "      <td>2</td>\n",
       "      <td>4</td>\n",
       "      <td>1</td>\n",
       "      <td>815.0</td>\n",
       "      <td>0</td>\n",
       "      <td>0</td>\n",
       "      <td>0</td>\n",
       "      <td>0</td>\n",
       "      <td>0</td>\n",
       "      <td>61.0</td>\n",
       "      <td>...</td>\n",
       "      <td>0</td>\n",
       "      <td>1</td>\n",
       "      <td>0</td>\n",
       "      <td>0</td>\n",
       "      <td>0</td>\n",
       "      <td>3</td>\n",
       "      <td>1</td>\n",
       "      <td>2</td>\n",
       "      <td>1</td>\n",
       "      <td>2</td>\n",
       "    </tr>\n",
       "    <tr>\n",
       "      <td>1</td>\n",
       "      <td>2</td>\n",
       "      <td>4</td>\n",
       "      <td>1</td>\n",
       "      <td>1330.0</td>\n",
       "      <td>0</td>\n",
       "      <td>0</td>\n",
       "      <td>0</td>\n",
       "      <td>0</td>\n",
       "      <td>0</td>\n",
       "      <td>36.0</td>\n",
       "      <td>...</td>\n",
       "      <td>1</td>\n",
       "      <td>1</td>\n",
       "      <td>3</td>\n",
       "      <td>0</td>\n",
       "      <td>0</td>\n",
       "      <td>1</td>\n",
       "      <td>1</td>\n",
       "      <td>1</td>\n",
       "      <td>0</td>\n",
       "      <td>2</td>\n",
       "    </tr>\n",
       "    <tr>\n",
       "      <td>2</td>\n",
       "      <td>2</td>\n",
       "      <td>4</td>\n",
       "      <td>1</td>\n",
       "      <td>805.0</td>\n",
       "      <td>0</td>\n",
       "      <td>0</td>\n",
       "      <td>0</td>\n",
       "      <td>0</td>\n",
       "      <td>0</td>\n",
       "      <td>32.0</td>\n",
       "      <td>...</td>\n",
       "      <td>0</td>\n",
       "      <td>2</td>\n",
       "      <td>3</td>\n",
       "      <td>0</td>\n",
       "      <td>1</td>\n",
       "      <td>1</td>\n",
       "      <td>1</td>\n",
       "      <td>2</td>\n",
       "      <td>0</td>\n",
       "      <td>2</td>\n",
       "    </tr>\n",
       "    <tr>\n",
       "      <td>3</td>\n",
       "      <td>2</td>\n",
       "      <td>4</td>\n",
       "      <td>1</td>\n",
       "      <td>805.0</td>\n",
       "      <td>0</td>\n",
       "      <td>0</td>\n",
       "      <td>0</td>\n",
       "      <td>0</td>\n",
       "      <td>0</td>\n",
       "      <td>30.0</td>\n",
       "      <td>...</td>\n",
       "      <td>0</td>\n",
       "      <td>2</td>\n",
       "      <td>3</td>\n",
       "      <td>2</td>\n",
       "      <td>2</td>\n",
       "      <td>1</td>\n",
       "      <td>0</td>\n",
       "      <td>2</td>\n",
       "      <td>0</td>\n",
       "      <td>2</td>\n",
       "    </tr>\n",
       "    <tr>\n",
       "      <td>4</td>\n",
       "      <td>2</td>\n",
       "      <td>4</td>\n",
       "      <td>1</td>\n",
       "      <td>1705.0</td>\n",
       "      <td>0</td>\n",
       "      <td>0</td>\n",
       "      <td>0</td>\n",
       "      <td>0</td>\n",
       "      <td>0</td>\n",
       "      <td>26.0</td>\n",
       "      <td>...</td>\n",
       "      <td>0</td>\n",
       "      <td>2</td>\n",
       "      <td>3</td>\n",
       "      <td>2</td>\n",
       "      <td>1</td>\n",
       "      <td>5</td>\n",
       "      <td>1</td>\n",
       "      <td>2</td>\n",
       "      <td>0</td>\n",
       "      <td>2</td>\n",
       "    </tr>\n",
       "    <tr>\n",
       "      <td>...</td>\n",
       "      <td>...</td>\n",
       "      <td>...</td>\n",
       "      <td>...</td>\n",
       "      <td>...</td>\n",
       "      <td>...</td>\n",
       "      <td>...</td>\n",
       "      <td>...</td>\n",
       "      <td>...</td>\n",
       "      <td>...</td>\n",
       "      <td>...</td>\n",
       "      <td>...</td>\n",
       "      <td>...</td>\n",
       "      <td>...</td>\n",
       "      <td>...</td>\n",
       "      <td>...</td>\n",
       "      <td>...</td>\n",
       "      <td>...</td>\n",
       "      <td>...</td>\n",
       "      <td>...</td>\n",
       "      <td>...</td>\n",
       "      <td>...</td>\n",
       "    </tr>\n",
       "    <tr>\n",
       "      <td>2198</td>\n",
       "      <td>1</td>\n",
       "      <td>2</td>\n",
       "      <td>3</td>\n",
       "      <td>1515.0</td>\n",
       "      <td>1</td>\n",
       "      <td>1</td>\n",
       "      <td>1</td>\n",
       "      <td>0</td>\n",
       "      <td>1</td>\n",
       "      <td>21.0</td>\n",
       "      <td>...</td>\n",
       "      <td>0</td>\n",
       "      <td>0</td>\n",
       "      <td>3</td>\n",
       "      <td>0</td>\n",
       "      <td>0</td>\n",
       "      <td>7</td>\n",
       "      <td>1</td>\n",
       "      <td>2</td>\n",
       "      <td>1</td>\n",
       "      <td>2</td>\n",
       "    </tr>\n",
       "    <tr>\n",
       "      <td>2199</td>\n",
       "      <td>1</td>\n",
       "      <td>2</td>\n",
       "      <td>3</td>\n",
       "      <td>1935.0</td>\n",
       "      <td>1</td>\n",
       "      <td>1</td>\n",
       "      <td>1</td>\n",
       "      <td>0</td>\n",
       "      <td>1</td>\n",
       "      <td>23.0</td>\n",
       "      <td>...</td>\n",
       "      <td>0</td>\n",
       "      <td>0</td>\n",
       "      <td>3</td>\n",
       "      <td>0</td>\n",
       "      <td>0</td>\n",
       "      <td>5</td>\n",
       "      <td>1</td>\n",
       "      <td>0</td>\n",
       "      <td>1</td>\n",
       "      <td>2</td>\n",
       "    </tr>\n",
       "    <tr>\n",
       "      <td>2200</td>\n",
       "      <td>1</td>\n",
       "      <td>2</td>\n",
       "      <td>3</td>\n",
       "      <td>2111.0</td>\n",
       "      <td>1</td>\n",
       "      <td>1</td>\n",
       "      <td>1</td>\n",
       "      <td>0</td>\n",
       "      <td>1</td>\n",
       "      <td>20.0</td>\n",
       "      <td>...</td>\n",
       "      <td>0</td>\n",
       "      <td>0</td>\n",
       "      <td>3</td>\n",
       "      <td>0</td>\n",
       "      <td>0</td>\n",
       "      <td>5</td>\n",
       "      <td>1</td>\n",
       "      <td>2</td>\n",
       "      <td>1</td>\n",
       "      <td>2</td>\n",
       "    </tr>\n",
       "    <tr>\n",
       "      <td>2201</td>\n",
       "      <td>1</td>\n",
       "      <td>2</td>\n",
       "      <td>3</td>\n",
       "      <td>2320.0</td>\n",
       "      <td>1</td>\n",
       "      <td>1</td>\n",
       "      <td>1</td>\n",
       "      <td>0</td>\n",
       "      <td>1</td>\n",
       "      <td>34.0</td>\n",
       "      <td>...</td>\n",
       "      <td>0</td>\n",
       "      <td>0</td>\n",
       "      <td>3</td>\n",
       "      <td>0</td>\n",
       "      <td>0</td>\n",
       "      <td>1</td>\n",
       "      <td>1</td>\n",
       "      <td>0</td>\n",
       "      <td>1</td>\n",
       "      <td>2</td>\n",
       "    </tr>\n",
       "    <tr>\n",
       "      <td>2202</td>\n",
       "      <td>1</td>\n",
       "      <td>2</td>\n",
       "      <td>3</td>\n",
       "      <td>1400.0</td>\n",
       "      <td>1</td>\n",
       "      <td>1</td>\n",
       "      <td>1</td>\n",
       "      <td>0</td>\n",
       "      <td>1</td>\n",
       "      <td>27.0</td>\n",
       "      <td>...</td>\n",
       "      <td>0</td>\n",
       "      <td>1</td>\n",
       "      <td>3</td>\n",
       "      <td>0</td>\n",
       "      <td>0</td>\n",
       "      <td>5</td>\n",
       "      <td>1</td>\n",
       "      <td>2</td>\n",
       "      <td>1</td>\n",
       "      <td>2</td>\n",
       "    </tr>\n",
       "  </tbody>\n",
       "</table>\n",
       "<p>2203 rows × 32 columns</p>\n",
       "</div>"
      ],
      "text/plain": [
       "      State  month  day    time  harmful-event  manner-of-collision  \\\n",
       "0         2      4    1   815.0              0                    0   \n",
       "1         2      4    1  1330.0              0                    0   \n",
       "2         2      4    1   805.0              0                    0   \n",
       "3         2      4    1   805.0              0                    0   \n",
       "4         2      4    1  1705.0              0                    0   \n",
       "...     ...    ...  ...     ...            ...                  ...   \n",
       "2198      1      2    3  1515.0              1                    1   \n",
       "2199      1      2    3  1935.0              1                    1   \n",
       "2200      1      2    3  2111.0              1                    1   \n",
       "2201      1      2    3  2320.0              1                    1   \n",
       "2202      1      2    3  1400.0              1                    1   \n",
       "\n",
       "      person-type  seating-position  age  age-range  ...  road-type  \\\n",
       "0               0                 0    0       61.0  ...          0   \n",
       "1               0                 0    0       36.0  ...          1   \n",
       "2               0                 0    0       32.0  ...          0   \n",
       "3               0                 0    0       30.0  ...          0   \n",
       "4               0                 0    0       26.0  ...          0   \n",
       "...           ...               ...  ...        ...  ...        ...   \n",
       "2198            1                 0    1       21.0  ...          0   \n",
       "2199            1                 0    1       23.0  ...          0   \n",
       "2200            1                 0    1       20.0  ...          0   \n",
       "2201            1                 0    1       34.0  ...          0   \n",
       "2202            1                 0    1       27.0  ...          0   \n",
       "\n",
       "      n0-of-lanes  sorrounding-area  road-features  light-condion  \\\n",
       "0               1                 0              0              0   \n",
       "1               1                 3              0              0   \n",
       "2               2                 3              0              1   \n",
       "3               2                 3              2              2   \n",
       "4               2                 3              2              1   \n",
       "...           ...               ...            ...            ...   \n",
       "2198            0                 3              0              0   \n",
       "2199            0                 3              0              0   \n",
       "2200            0                 3              0              0   \n",
       "2201            0                 3              0              0   \n",
       "2202            1                 3              0              0   \n",
       "\n",
       "      weather-conditions  following-traffic-rules  type-of-vehicle  \\\n",
       "0                      3                        1                2   \n",
       "1                      1                        1                1   \n",
       "2                      1                        1                2   \n",
       "3                      1                        0                2   \n",
       "4                      5                        1                2   \n",
       "...                  ...                      ...              ...   \n",
       "2198                   7                        1                2   \n",
       "2199                   5                        1                0   \n",
       "2200                   5                        1                2   \n",
       "2201                   1                        1                0   \n",
       "2202                   5                        1                2   \n",
       "\n",
       "      causality-class  Severity Class  \n",
       "0                   1               2  \n",
       "1                   0               2  \n",
       "2                   0               2  \n",
       "3                   0               2  \n",
       "4                   0               2  \n",
       "...               ...             ...  \n",
       "2198                1               2  \n",
       "2199                1               2  \n",
       "2200                1               2  \n",
       "2201                1               2  \n",
       "2202                1               2  \n",
       "\n",
       "[2203 rows x 32 columns]"
      ]
     },
     "execution_count": 20,
     "metadata": {},
     "output_type": "execute_result"
    }
   ],
   "source": [
    "df"
   ]
  },
  {
   "cell_type": "code",
   "execution_count": 21,
   "metadata": {},
   "outputs": [],
   "source": [
    "df1=df"
   ]
  },
  {
   "cell_type": "code",
   "execution_count": 22,
   "metadata": {},
   "outputs": [],
   "source": [
    "Y=df1[['Severity Class','causality-class','injury-severity','harmful-event']]\n",
    "X=df1.drop(['Severity Class','causality-class','injury-severity','harmful-event'],axis=True)\n",
    "y=df1[['Severity Class','causality-class','injury-severity','harmful-event']].values\n",
    "x=df1.drop(['Severity Class','causality-class','injury-severity','harmful-event'],axis=True).values"
   ]
  },
  {
   "cell_type": "code",
   "execution_count": 23,
   "metadata": {},
   "outputs": [
    {
     "name": "stdout",
     "output_type": "stream",
     "text": [
      "<class 'pandas.core.frame.DataFrame'>\n",
      "Int64Index: 2203 entries, 0 to 2202\n",
      "Data columns (total 28 columns):\n",
      "State                        2203 non-null int32\n",
      "month                        2203 non-null int32\n",
      "day                          2203 non-null int32\n",
      "time                         2203 non-null float64\n",
      "manner-of-collision          2203 non-null int32\n",
      "person-type                  2203 non-null int32\n",
      "seating-position             2203 non-null int32\n",
      "age                          2203 non-null int32\n",
      "age-range                    2203 non-null float64\n",
      "gender                       2203 non-null int32\n",
      "race                         2203 non-null int32\n",
      "air-bag                      2203 non-null int32\n",
      "transported-for-treatment    2203 non-null int32\n",
      "protection-system            2203 non-null int32\n",
      "ejection                     2203 non-null int32\n",
      "extrication                  2203 non-null int32\n",
      "dead-on-arrival              2203 non-null int32\n",
      "year-of-death                2203 non-null float64\n",
      "alcohol-test                 2203 non-null int32\n",
      "drug-test                    2203 non-null int32\n",
      "road-type                    2203 non-null int32\n",
      "n0-of-lanes                  2203 non-null int32\n",
      "sorrounding-area             2203 non-null int32\n",
      "road-features                2203 non-null int32\n",
      "light-condion                2203 non-null int32\n",
      "weather-conditions           2203 non-null int32\n",
      "following-traffic-rules      2203 non-null int32\n",
      "type-of-vehicle              2203 non-null int32\n",
      "dtypes: float64(3), int32(25)\n",
      "memory usage: 284.0 KB\n"
     ]
    }
   ],
   "source": [
    "X.info()"
   ]
  },
  {
   "cell_type": "code",
   "execution_count": 24,
   "metadata": {},
   "outputs": [
    {
     "name": "stdout",
     "output_type": "stream",
     "text": [
      "<class 'pandas.core.frame.DataFrame'>\n",
      "Int64Index: 2203 entries, 0 to 2202\n",
      "Data columns (total 4 columns):\n",
      "Severity Class     2203 non-null int32\n",
      "causality-class    2203 non-null int32\n",
      "injury-severity    2203 non-null int32\n",
      "harmful-event      2203 non-null int32\n",
      "dtypes: int32(4)\n",
      "memory usage: 51.6 KB\n"
     ]
    }
   ],
   "source": [
    "Y.info()"
   ]
  },
  {
   "cell_type": "code",
   "execution_count": 25,
   "metadata": {},
   "outputs": [],
   "source": [
    "df.to_csv('Traffic_clean.csv')"
   ]
  },
  {
   "cell_type": "code",
   "execution_count": 26,
   "metadata": {},
   "outputs": [],
   "source": [
    "from sklearn.model_selection import train_test_split\n",
    "X_train, X_test, y_train,y_test = train_test_split(x,y,test_size = 0.25, random_state=43)"
   ]
  },
  {
   "cell_type": "code",
   "execution_count": 27,
   "metadata": {},
   "outputs": [],
   "source": [
    "from sklearn.preprocessing import StandardScaler\n",
    "sc = StandardScaler()\n",
    "X_train = sc.fit_transform(X_train)\n",
    "X_test = sc.transform(X_test) "
   ]
  },
  {
   "cell_type": "code",
   "execution_count": 28,
   "metadata": {},
   "outputs": [
    {
     "data": {
      "text/plain": [
       "KNeighborsClassifier(algorithm='auto', leaf_size=30, metric='minkowski',\n",
       "                     metric_params=None, n_jobs=-1, n_neighbors=3, p=1,\n",
       "                     weights='distance')"
      ]
     },
     "execution_count": 28,
     "metadata": {},
     "output_type": "execute_result"
    }
   ],
   "source": [
    "from sklearn.neighbors import KNeighborsClassifier\n",
    "classifier = KNeighborsClassifier(n_neighbors=3, p=1, metric='minkowski', n_jobs=-1, weights='distance')\n",
    "classifier.fit(X_train,y_train)"
   ]
  },
  {
   "cell_type": "code",
   "execution_count": 29,
   "metadata": {},
   "outputs": [],
   "source": [
    "y_pred = classifier.predict(X_test)"
   ]
  },
  {
   "cell_type": "code",
   "execution_count": 30,
   "metadata": {},
   "outputs": [
    {
     "name": "stdout",
     "output_type": "stream",
     "text": [
      "\n",
      "---------------------------\n",
      "\n",
      "Predicted Values for Test Set :\n",
      " [[2 0 0 0]\n",
      " [2 1 0 0]\n",
      " [2 1 1 1]\n",
      " ...\n",
      " [2 1 0 0]\n",
      " [2 1 0 1]\n",
      " [1 0 1 1]]\n",
      "\n",
      "---------------------------\n",
      "\n",
      "Actual Values for Test Set :\n",
      " [[2 0 0 0]\n",
      " [2 1 0 0]\n",
      " [2 1 1 1]\n",
      " ...\n",
      " [2 1 0 0]\n",
      " [2 0 0 1]\n",
      " [1 0 1 1]]\n"
     ]
    }
   ],
   "source": [
    "print(\"\\n---------------------------\\n\")\n",
    "print(\"Predicted Values for Test Set :\\n\",y_pred)\n",
    "print(\"\\n---------------------------\\n\")\n",
    "print(\"Actual Values for Test Set :\\n\",y_test)"
   ]
  },
  {
   "cell_type": "code",
   "execution_count": 31,
   "metadata": {
    "scrolled": true
   },
   "outputs": [
    {
     "data": {
      "text/plain": [
       "0.9001814882032668"
      ]
     },
     "execution_count": 31,
     "metadata": {},
     "output_type": "execute_result"
    }
   ],
   "source": [
    "1-np.sum(np.not_equal(y_test, y_pred))/float(y_test.size)"
   ]
  },
  {
   "cell_type": "code",
   "execution_count": 32,
   "metadata": {},
   "outputs": [],
   "source": [
    "X_train, X_test, y_train,y_test = train_test_split(x,y,test_size = 0.25, random_state=43)\n",
    "X_train1, X_test1, y_train1,y_test1 =np.array(X_train), np.array(X_test), np.array(y_train),np.array(y_test)\n",
    "X_train1 = sc.fit_transform(X_train1)\n",
    "X_test1 = sc.transform(X_test1) \n",
    "from sklearn.preprocessing import MultiLabelBinarizer\n",
    "mlb = MultiLabelBinarizer()\n",
    "y_train1 = mlb.fit_transform(y_train1)"
   ]
  },
  {
   "cell_type": "code",
   "execution_count": 33,
   "metadata": {},
   "outputs": [
    {
     "data": {
      "text/plain": [
       "OneVsRestClassifier(estimator=SVC(C=1.0, cache_size=200, class_weight=None,\n",
       "                                  coef0=0.0, decision_function_shape='ovr',\n",
       "                                  degree=3, gamma='auto_deprecated',\n",
       "                                  kernel='rbf', max_iter=-1, probability=False,\n",
       "                                  random_state=None, shrinking=True, tol=0.001,\n",
       "                                  verbose=False),\n",
       "                    n_jobs=None)"
      ]
     },
     "execution_count": 33,
     "metadata": {},
     "output_type": "execute_result"
    }
   ],
   "source": [
    "from sklearn.multiclass import OneVsRestClassifier\n",
    "from sklearn.svm import SVC\n",
    "clf = OneVsRestClassifier(SVC())\n",
    "clf.fit(X_train1,y_train1)"
   ]
  },
  {
   "cell_type": "code",
   "execution_count": 34,
   "metadata": {},
   "outputs": [
    {
     "data": {
      "text/plain": [
       "0.8868723532970357"
      ]
     },
     "execution_count": 34,
     "metadata": {},
     "output_type": "execute_result"
    }
   ],
   "source": [
    "y_pred1 = clf.predict(X_test1)\n",
    "y_test1 = mlb.fit_transform(y_test1)\n",
    "1-np.sum(np.not_equal(y_test1, y_pred1))/float(y_test1.size)"
   ]
  },
  {
   "cell_type": "code",
   "execution_count": 35,
   "metadata": {},
   "outputs": [
    {
     "name": "stdout",
     "output_type": "stream",
     "text": [
      "(1652, 4)\n",
      "(1652, 3)\n"
     ]
    }
   ],
   "source": [
    "X_train, X_test, y_train,y_test = train_test_split(x,y,test_size = 0.25, random_state=43)\n",
    "X_train2, X_test2, y_train2,y_test2 =np.array(X_train), np.array(X_test), np.array(y_train),np.array(y_test)\n",
    "X_train2 = sc.fit_transform(X_train2)\n",
    "X_test2 = sc.transform(X_test2) \n",
    "from sklearn.preprocessing import MultiLabelBinarizer\n",
    "mlb = MultiLabelBinarizer()\n",
    "print(y_train2.shape)\n",
    "y_train2 = mlb.fit_transform(y_train2)\n",
    "y_test2 = mlb.fit_transform(y_test2)\n",
    "print(y_train2.shape)"
   ]
  },
  {
   "cell_type": "code",
   "execution_count": 36,
   "metadata": {},
   "outputs": [
    {
     "data": {
      "text/plain": [
       "OneVsRestClassifier(estimator=LogisticRegression(C=1.0, class_weight=None,\n",
       "                                                 dual=False, fit_intercept=True,\n",
       "                                                 intercept_scaling=1,\n",
       "                                                 l1_ratio=None, max_iter=100,\n",
       "                                                 multi_class='warn',\n",
       "                                                 n_jobs=None, penalty='l2',\n",
       "                                                 random_state=12,\n",
       "                                                 solver='liblinear', tol=0.0001,\n",
       "                                                 verbose=0, warm_start=False),\n",
       "                    n_jobs=None)"
      ]
     },
     "execution_count": 36,
     "metadata": {},
     "output_type": "execute_result"
    }
   ],
   "source": [
    "log = OneVsRestClassifier(LogisticRegression(random_state=12,solver=\"liblinear\"))\n",
    "log.fit(X_train2,y_train2)"
   ]
  },
  {
   "cell_type": "code",
   "execution_count": 37,
   "metadata": {},
   "outputs": [
    {
     "data": {
      "text/plain": [
       "0.8596491228070176"
      ]
     },
     "execution_count": 37,
     "metadata": {},
     "output_type": "execute_result"
    }
   ],
   "source": [
    "y_pred2 = log.predict(X_test2)\n",
    "1-np.sum(np.not_equal(y_test2, y_pred2))/float(y_test2.size)\n"
   ]
  },
  {
   "cell_type": "code",
   "execution_count": 38,
   "metadata": {},
   "outputs": [
    {
     "data": {
      "text/plain": [
       "OneVsRestClassifier(estimator=BernoulliNB(alpha=1.0, binarize=0.0,\n",
       "                                          class_prior=None, fit_prior=True),\n",
       "                    n_jobs=None)"
      ]
     },
     "execution_count": 38,
     "metadata": {},
     "output_type": "execute_result"
    }
   ],
   "source": [
    "X_train, X_test, y_train,y_test = train_test_split(x,y,test_size = 0.25, random_state=43)\n",
    "X_train3, X_test3, y_train3,y_test3 =np.array(X_train), np.array(X_test), np.array(y_train),np.array(y_test) \n",
    "from sklearn.preprocessing import StandardScaler\n",
    "sc = StandardScaler()\n",
    "X_train = sc.fit_transform(X_train)\n",
    "X_test = sc.transform(X_test) \n",
    "from sklearn.preprocessing import MultiLabelBinarizer\n",
    "mlb = MultiLabelBinarizer()\n",
    "y_train3 = mlb.fit_transform(y_train3)\n",
    "y_test3 = mlb.fit_transform(y_test3)\n",
    "from sklearn.naive_bayes import BernoulliNB\n",
    "nb = OneVsRestClassifier(BernoulliNB())\n",
    "nb.fit(X_train3,y_train3)"
   ]
  },
  {
   "cell_type": "code",
   "execution_count": 39,
   "metadata": {},
   "outputs": [
    {
     "data": {
      "text/plain": [
       "0.8408953418027828"
      ]
     },
     "execution_count": 39,
     "metadata": {},
     "output_type": "execute_result"
    }
   ],
   "source": [
    "y_pred3 = nb.predict(X_test3)\n",
    "1-np.sum(np.not_equal(y_test3, y_pred3))/float(y_test3.size)"
   ]
  },
  {
   "cell_type": "code",
   "execution_count": 40,
   "metadata": {},
   "outputs": [
    {
     "data": {
      "text/plain": [
       "DecisionTreeClassifier(class_weight=None, criterion='gini', max_depth=None,\n",
       "                       max_features=None, max_leaf_nodes=None,\n",
       "                       min_impurity_decrease=0.0, min_impurity_split=None,\n",
       "                       min_samples_leaf=1, min_samples_split=2,\n",
       "                       min_weight_fraction_leaf=0.0, presort=False,\n",
       "                       random_state=None, splitter='best')"
      ]
     },
     "execution_count": 40,
     "metadata": {},
     "output_type": "execute_result"
    }
   ],
   "source": [
    "X_train4, X_test4, y_train4,y_test4 =np.array(X_train), np.array(X_test), np.array(y_train),np.array(y_test) \n",
    "\n",
    "from sklearn.preprocessing import MultiLabelBinarizer\n",
    "mlb = MultiLabelBinarizer()\n",
    "y_train4 = mlb.fit_transform(y_train4)\n",
    "y_test4 = mlb.fit_transform(y_test4)\n",
    "from sklearn.tree import DecisionTreeClassifier\n",
    "tree = DecisionTreeClassifier()\n",
    "tree.fit(X_train4,y_train4)"
   ]
  },
  {
   "cell_type": "code",
   "execution_count": 41,
   "metadata": {},
   "outputs": [
    {
     "data": {
      "text/plain": [
       "0.9056261343012704"
      ]
     },
     "execution_count": 41,
     "metadata": {},
     "output_type": "execute_result"
    }
   ],
   "source": [
    "y_pred4 = tree.predict(X_test4)\n",
    "1-np.sum(np.not_equal(y_test4, y_pred4))/float(y_test4.size)"
   ]
  },
  {
   "cell_type": "code",
   "execution_count": 42,
   "metadata": {},
   "outputs": [
    {
     "name": "stderr",
     "output_type": "stream",
     "text": [
      "D:\\ANACONDA\\lib\\site-packages\\sklearn\\ensemble\\forest.py:245: FutureWarning: The default value of n_estimators will change from 10 in version 0.20 to 100 in 0.22.\n",
      "  \"10 in version 0.20 to 100 in 0.22.\", FutureWarning)\n"
     ]
    },
    {
     "data": {
      "text/plain": [
       "RandomForestClassifier(bootstrap=True, class_weight=None, criterion='gini',\n",
       "                       max_depth=None, max_features='auto', max_leaf_nodes=None,\n",
       "                       min_impurity_decrease=0.0, min_impurity_split=None,\n",
       "                       min_samples_leaf=1, min_samples_split=2,\n",
       "                       min_weight_fraction_leaf=0.0, n_estimators=10,\n",
       "                       n_jobs=None, oob_score=False, random_state=None,\n",
       "                       verbose=0, warm_start=False)"
      ]
     },
     "execution_count": 42,
     "metadata": {},
     "output_type": "execute_result"
    }
   ],
   "source": [
    "X_train5, X_test5, y_train5,y_test5 =np.array(X_train), np.array(X_test), np.array(y_train),np.array(y_test) \n",
    "from sklearn.preprocessing import MultiLabelBinarizer\n",
    "X_train5 = sc.fit_transform(X_train5)\n",
    "X_test5 = sc.transform(X_test5) \n",
    "mlb = MultiLabelBinarizer()\n",
    "y_train5 = mlb.fit_transform(y_train5)\n",
    "y_test5 = mlb.fit_transform(y_test5)\n",
    "from sklearn.ensemble import RandomForestClassifier\n",
    "forest = RandomForestClassifier()\n",
    "forest.fit(X_train5,y_train5)"
   ]
  },
  {
   "cell_type": "code",
   "execution_count": 43,
   "metadata": {},
   "outputs": [
    {
     "data": {
      "text/plain": [
       "0.9026013309134906"
      ]
     },
     "execution_count": 43,
     "metadata": {},
     "output_type": "execute_result"
    }
   ],
   "source": [
    "y_pred5 = forest.predict(X_test5)\n",
    "1-np.sum(np.not_equal(y_test5, y_pred5))/float(y_test5.size)"
   ]
  },
  {
   "cell_type": "code",
   "execution_count": 44,
   "metadata": {},
   "outputs": [
    {
     "name": "stdout",
     "output_type": "stream",
     "text": [
      "  Model       MAE       MSE  accuracy      rmse\n",
      "0   KNN  0.107078  0.121597  0.900181  0.348708\n"
     ]
    }
   ],
   "source": [
    "y_pred = classifier.predict(X_test)\n",
    "#KNN = round(classifier.score(X_test, y_test), 2) \n",
    "  \n",
    "mae_knn = metrics.mean_absolute_error(y_test, y_pred) \n",
    "mse_knn = metrics.mean_squared_error(y_test, y_pred) \n",
    "acc_knn=1-np.sum(np.not_equal(y_test, y_pred))/float(y_test.size)\n",
    "rmse_knn=np.sqrt(np.mean((y_test-y_pred)**2))\n",
    "\n",
    "compare_models = pd.DataFrame( \n",
    "    {  'Model' : ['KNN'], \n",
    "       #'Score' : [KNN], \n",
    "        'MAE'  : [mae_knn], \n",
    "        'MSE'  : [mse_knn],\n",
    "     'accuracy' : [acc_knn],\n",
    "     'rmse' : [rmse_knn]\n",
    "    }) \n",
    "  \n",
    "print(compare_models) \n",
    "  "
   ]
  },
  {
   "cell_type": "code",
   "execution_count": 45,
   "metadata": {},
   "outputs": [
    {
     "name": "stdout",
     "output_type": "stream",
     "text": [
      "    Model  Score       MAE       MSE  Accuracy      RMSE\n",
      "0  LogReg   0.60  0.140400  0.140400  0.859649  0.374634\n",
      "1      NB   0.57  0.159105  0.159105  0.840895  0.398879\n",
      "2      DT   0.74  0.094374  0.094374  0.905626  0.307203\n",
      "3      RF   0.72  0.097399  0.097399  0.902601  0.312088\n",
      "4     SVM   0.67  0.113128  0.113128  0.886872  0.336345\n"
     ]
    }
   ],
   "source": [
    "\n",
    "  \n",
    "y_pred2 = log.predict(X_test2)\n",
    "LogReg = round(log.score(X_test2, y_test2),2) \n",
    "  \n",
    "mae_lr = round(metrics.mean_absolute_error(y_test2, y_pred2), 4) \n",
    "mse_lr = round(metrics.mean_squared_error(y_test2, y_pred2), 4) \n",
    "acc_lr=1-np.sum(np.not_equal(y_test2, y_pred2))/float(y_test2.size)\n",
    "rmse_lr=np.sqrt(np.mean((y_test2-y_pred2)**2))\n",
    "\n",
    "y_pred3 = nb.predict(X_test3)\n",
    "NB = round(nb.score(X_test3, y_test3), 2) \n",
    "  \n",
    "mae_nb = metrics.mean_absolute_error(y_test3, y_pred3) \n",
    "mse_nb = metrics.mean_squared_error(y_test3, y_pred3)\n",
    "acc_nb=1-np.sum(np.not_equal(y_test3, y_pred3))/float(y_test3.size)\n",
    "rmse_nb=np.sqrt(np.mean((y_test3-y_pred3)**2))\n",
    "\n",
    "y_pred4 = tree.predict(X_test4)\n",
    "DT= round(tree.score(X_test4, y_test4), 2) \n",
    "mae_dt = metrics.mean_absolute_error(y_test4, y_pred4) \n",
    "mse_dt = metrics.mean_squared_error(y_test4, y_pred4) \n",
    "acc_dt=1-np.sum(np.not_equal(y_test4, y_pred4))/float(y_test4.size)\n",
    "rmse_dt=np.sqrt(np.mean((y_test4-y_pred4)**2))  \n",
    "\n",
    "y_pred5 = forest.predict(X_test5)\n",
    "RF= round(forest.score(X_test5, y_test5), 2) \n",
    "mae_rf = metrics.mean_absolute_error(y_test5, y_pred5) \n",
    "mse_rf = metrics.mean_squared_error(y_test5, y_pred5)   \n",
    "acc_rf=1-np.sum(np.not_equal(y_test5, y_pred5))/float(y_test5.size)\n",
    "rmse_rf=np.sqrt(np.mean((y_test5-y_pred5)**2))\n",
    "\n",
    "y_pred1 = clf.predict(X_test1)\n",
    "#y_test1 = mlb.fit_transform(y_test1)\n",
    "SVM = round(clf.score(X_test1, y_test1), 2) \n",
    "  \n",
    "mae_svm = metrics.mean_absolute_error(y_test1, y_pred1) \n",
    "mse_svm = metrics.mean_squared_error(y_test1, y_pred1)\n",
    "acc_svm=1-np.sum(np.not_equal(y_test1, y_pred1))/float(y_test1.size)\n",
    "rmse_svm=np.sqrt(np.mean((y_test1-y_pred1)**2))\n",
    "  \n",
    "\n",
    "compare_models = pd.DataFrame( \n",
    "    {  'Model' : ['LogReg', 'NB','DT','RF','SVM'], \n",
    "       'Score' : [LogReg, NB, DT,RF,SVM], \n",
    "        'MAE'  : [mae_lr, mae_nb,mae_dt,mae_rf,mae_svm], \n",
    "        'MSE'  : [mse_lr, mse_nb,mse_dt,mse_rf,mse_svm],\n",
    "        'Accuracy'  : [acc_lr, acc_nb,acc_dt,acc_rf,acc_svm],\n",
    "        'RMSE' : [rmse_lr,rmse_nb,rmse_dt,rmse_rf,rmse_svm]\n",
    "    }) \n",
    "  \n",
    "print(compare_models) \n",
    "  "
   ]
  },
  {
   "cell_type": "code",
   "execution_count": 46,
   "metadata": {},
   "outputs": [],
   "source": [
    "from sklearn.metrics import precision_recall_fscore_support"
   ]
  },
  {
   "cell_type": "code",
   "execution_count": 47,
   "metadata": {},
   "outputs": [
    {
     "data": {
      "text/plain": [
       "(0.8919410893838489, 0.9881194287801134, 0.9367366650838173, None)"
      ]
     },
     "execution_count": 47,
     "metadata": {},
     "output_type": "execute_result"
    }
   ],
   "source": [
    "precision_recall_fscore_support(y_test1, y_pred1, average='macro')"
   ]
  },
  {
   "cell_type": "code",
   "execution_count": 48,
   "metadata": {},
   "outputs": [
    {
     "data": {
      "text/plain": [
       "(0.8731881516631037, 0.9798702598373028, 0.9222906202115208, None)"
      ]
     },
     "execution_count": 48,
     "metadata": {},
     "output_type": "execute_result"
    }
   ],
   "source": [
    "precision_recall_fscore_support(y_test2, y_pred2, average='macro')"
   ]
  },
  {
   "cell_type": "code",
   "execution_count": 49,
   "metadata": {},
   "outputs": [
    {
     "data": {
      "text/plain": [
       "(0.8808518011855906, 0.9443482554467787, 0.9100872710385236, None)"
      ]
     },
     "execution_count": 49,
     "metadata": {},
     "output_type": "execute_result"
    }
   ],
   "source": [
    "precision_recall_fscore_support(y_test3, y_pred3, average='macro')"
   ]
  },
  {
   "cell_type": "code",
   "execution_count": 50,
   "metadata": {},
   "outputs": [
    {
     "data": {
      "text/plain": [
       "(0.9463760862556327, 0.9399889901299585, 0.9430862616824763, None)"
      ]
     },
     "execution_count": 50,
     "metadata": {},
     "output_type": "execute_result"
    }
   ],
   "source": [
    "precision_recall_fscore_support(y_test4, y_pred4, average='macro')"
   ]
  },
  {
   "cell_type": "code",
   "execution_count": 51,
   "metadata": {},
   "outputs": [
    {
     "data": {
      "text/plain": [
       "(0.9344248250504137, 0.9516375181449784, 0.9426755242088962, None)"
      ]
     },
     "execution_count": 51,
     "metadata": {},
     "output_type": "execute_result"
    }
   ],
   "source": [
    "precision_recall_fscore_support(y_test5, y_pred5, average='macro')"
   ]
  }
 ],
 "metadata": {
  "kernelspec": {
   "display_name": "Python 3",
   "language": "python",
   "name": "python3"
  },
  "language_info": {
   "codemirror_mode": {
    "name": "ipython",
    "version": 3
   },
   "file_extension": ".py",
   "mimetype": "text/x-python",
   "name": "python",
   "nbconvert_exporter": "python",
   "pygments_lexer": "ipython3",
   "version": "3.7.4"
  }
 },
 "nbformat": 4,
 "nbformat_minor": 2
}
